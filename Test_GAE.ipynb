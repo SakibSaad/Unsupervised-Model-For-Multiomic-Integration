{
 "cells": [
  {
   "cell_type": "code",
   "execution_count": 1,
   "metadata": {},
   "outputs": [
    {
     "name": "stderr",
     "output_type": "stream",
     "text": [
      "/usr/lib/python3/dist-packages/scipy/__init__.py:146: UserWarning: A NumPy version >=1.17.3 and <1.25.0 is required for this version of SciPy (detected version 1.26.4\n",
      "  warnings.warn(f\"A NumPy version >={np_minversion} and <{np_maxversion}\"\n"
     ]
    }
   ],
   "source": [
    "# Imports\n",
    "import pandas as pd\n",
    "import numpy as np\n",
    "from sklearn.impute import KNNImputer\n",
    "import torch\n",
    "import torch.nn as nn\n",
    "import torch.nn.functional as F\n",
    "from torch_geometric.data import Data\n",
    "from torch_geometric.nn import GCNConv\n",
    "import torch.optim as optim"
   ]
  },
  {
   "cell_type": "markdown",
   "metadata": {},
   "source": [
    "# Data Preprocessing"
   ]
  },
  {
   "cell_type": "code",
   "execution_count": 3,
   "metadata": {},
   "outputs": [],
   "source": [
    "# Load Data\n",
    "df1 = pd.read_csv('data/ferm.csv', index_col=0, low_memory=False)\n",
    "df2 = pd.read_csv('data/multiome_all.csv', index_col=0, low_memory=False)"
   ]
  },
  {
   "cell_type": "code",
   "execution_count": 16,
   "metadata": {},
   "outputs": [],
   "source": [
    "# Merge Datasets\n",
    "df = df1.join(df2, lsuffix='_ferm', rsuffix='_resp')"
   ]
  },
  {
   "cell_type": "code",
   "execution_count": 5,
   "metadata": {},
   "outputs": [],
   "source": [
    "# Drop rows with missing values\n",
    "cln = df.dropna()"
   ]
  },
  {
   "cell_type": "code",
   "execution_count": 6,
   "metadata": {},
   "outputs": [],
   "source": [
    "# Separate datasets by molecule type\n",
    "protein = cln.loc[cln['Molecule Type_ferm'] == 'Protein'].drop(columns=['Molecule Type_ferm', 'Molecule Type_resp'])\n",
    "metabolite = cln.loc[cln['Molecule Type_ferm'] == 'Metabolite'].drop(columns=['Molecule Type_ferm', 'Molecule Type_resp'])\n",
    "lipid = cln.loc[cln['Molecule Type_ferm'] == 'Lipid'].drop(columns=['Molecule Type_ferm', 'Molecule Type_resp'])"
   ]
  },
  {
   "cell_type": "code",
   "execution_count": 7,
   "metadata": {},
   "outputs": [],
   "source": [
    "# Impute missing values using KNN\n",
    "imputer = KNNImputer(n_neighbors=2)"
   ]
  },
  {
   "cell_type": "code",
   "execution_count": 8,
   "metadata": {},
   "outputs": [],
   "source": [
    "# Impute proteins\n",
    "pfi = imputer.fit_transform(protein)\n",
    "protein_df = pd.DataFrame(data=pfi.T, index=protein.T.index, columns=protein.T.columns)"
   ]
  },
  {
   "cell_type": "code",
   "execution_count": 9,
   "metadata": {},
   "outputs": [],
   "source": [
    "# Impute metabolites\n",
    "mfi = imputer.fit_transform(metabolite)\n",
    "metabolite_df = pd.DataFrame(data=mfi.T, index=metabolite.T.index, columns=metabolite.T.columns)"
   ]
  },
  {
   "cell_type": "code",
   "execution_count": 10,
   "metadata": {},
   "outputs": [],
   "source": [
    "# Impute lipids\n",
    "lfi = imputer.fit_transform(lipid)\n",
    "lipid_df = pd.DataFrame(data=lfi.T, index=lipid.T.index, columns=lipid.T.columns)"
   ]
  },
  {
   "cell_type": "code",
   "execution_count": 11,
   "metadata": {},
   "outputs": [],
   "source": [
    "# Combine Imputed Datasets\n",
    "combined_df = protein_df.join([metabolite_df, lipid_df])"
   ]
  },
  {
   "cell_type": "markdown",
   "metadata": {},
   "source": [
    "# Construct Graph"
   ]
  },
  {
   "cell_type": "code",
   "execution_count": 12,
   "metadata": {},
   "outputs": [],
   "source": [
    "# Convert combined DataFrame to tensor\n",
    "features = torch.tensor(combined_df.values, dtype=torch.float)"
   ]
  },
  {
   "cell_type": "code",
   "execution_count": 13,
   "metadata": {},
   "outputs": [],
   "source": [
    "# Example: Create a fully connected graph\n",
    "edge_index = torch.tensor([[i, j] for i in range(features.shape[0]) for j in range(features.shape[0]) if i != j], dtype=torch.long).t().contiguous()"
   ]
  },
  {
   "cell_type": "code",
   "execution_count": 14,
   "metadata": {},
   "outputs": [],
   "source": [
    "# Create PyTorch Geometric data object\n",
    "data = Data(x=features, edge_index=edge_index)"
   ]
  },
  {
   "cell_type": "markdown",
   "metadata": {},
   "source": [
    "# Define Graph Autoencoder"
   ]
  },
  {
   "cell_type": "code",
   "execution_count": 15,
   "metadata": {},
   "outputs": [
    {
     "name": "stdout",
     "output_type": "stream",
     "text": [
      "Epoch 0, Loss: 0.1420\n",
      "Epoch 10, Loss: 0.1304\n",
      "Epoch 20, Loss: 0.1292\n",
      "Epoch 30, Loss: 0.1287\n",
      "Epoch 40, Loss: 0.1285\n",
      "Epoch 50, Loss: 0.1285\n",
      "Epoch 60, Loss: 0.1285\n",
      "Epoch 70, Loss: 0.1285\n",
      "Epoch 80, Loss: 0.1285\n",
      "Epoch 90, Loss: 0.1285\n",
      "Training completed\n"
     ]
    }
   ],
   "source": [
    "class GraphAutoencoder(nn.Module):\n",
    "    def __init__(self, input_dim, hidden_dim, output_dim):\n",
    "        super(GraphAutoencoder, self).__init__()\n",
    "        self.encoder = GCNConv(input_dim, hidden_dim)\n",
    "        self.decoder = GCNConv(hidden_dim, output_dim)\n",
    "\n",
    "    def forward(self, x, edge_index):\n",
    "        hidden = F.relu(self.encoder(x, edge_index))\n",
    "        output = self.decoder(hidden, edge_index)\n",
    "        return output\n",
    "\n",
    "input_dim = features.shape[1]\n",
    "hidden_dim = 64\n",
    "output_dim = input_dim\n",
    "model = GraphAutoencoder(input_dim, hidden_dim, output_dim)\n",
    "\n",
    "# Training setup\n",
    "optimizer = optim.Adam(model.parameters(), lr=0.01)\n",
    "criterion = nn.MSELoss()\n",
    "\n",
    "def train(data, model, optimizer, criterion):\n",
    "    model.train()\n",
    "    optimizer.zero_grad()\n",
    "    output = model(data.x, data.edge_index)\n",
    "    loss = criterion(output, data.x)\n",
    "    loss.backward()\n",
    "    optimizer.step()\n",
    "    return loss.item()\n",
    "\n",
    "# Training loop\n",
    "epochs = 100\n",
    "for epoch in range(epochs):\n",
    "    loss = train(data, model, optimizer, criterion)\n",
    "    if epoch % 10 == 0:\n",
    "        print(f'Epoch {epoch}, Loss: {loss:.4f}')\n",
    "\n",
    "print('Training completed')\n",
    "\n",
    "# Save the model\n",
    "torch.save(model.state_dict(), 'graph_autoencoder.pth')"
   ]
  }
 ],
 "metadata": {
  "kernelspec": {
   "display_name": "Python 3",
   "language": "python",
   "name": "python3"
  },
  "language_info": {
   "codemirror_mode": {
    "name": "ipython",
    "version": 3
   },
   "file_extension": ".py",
   "mimetype": "text/x-python",
   "name": "python",
   "nbconvert_exporter": "python",
   "pygments_lexer": "ipython3",
   "version": "3.10.12"
  }
 },
 "nbformat": 4,
 "nbformat_minor": 2
}
